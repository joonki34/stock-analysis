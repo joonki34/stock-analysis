{
 "cells": [
  {
   "cell_type": "code",
   "execution_count": 2,
   "metadata": {},
   "outputs": [
    {
     "name": "stderr",
     "output_type": "stream",
     "text": [
      "Retrying langchain_google_genai.llms._completion_with_retry.<locals>._completion_with_retry in 4.0 seconds as it raised InternalServerError: 500 An internal error has occurred. Please retry or report in https://developers.generativeai.google/guide/troubleshooting.\n",
      "Retrying langchain_google_genai.llms._completion_with_retry.<locals>._completion_with_retry in 4.0 seconds as it raised InternalServerError: 500 An internal error has occurred. Please retry or report in https://developers.generativeai.google/guide/troubleshooting.\n"
     ]
    },
    {
     "name": "stdout",
     "output_type": "stream",
     "text": [
      "## Prediction: Negative\n",
      "\n",
      "## Reason:\n",
      "\n",
      "This tweet is likely to have a negative impact on Tesla's stock price for several reasons:\n",
      "\n",
      "* **Irresponsible and Potentially Illegal:**  The statement is flippant and promotes illegal activity (cocaine is a controlled substance). This could damage Tesla's brand image and reputation, especially amongst investors who value responsible corporate behavior.\n",
      "* **Distraction from Core Business:** The tweet shifts focus away from Tesla's core business of electric vehicles and clean energy. This could be seen as a lack of focus and commitment to the company's long-term goals. \n",
      "* **Investor Uncertainty:**  The unpredictable nature of Elon Musk's tweets often creates uncertainty and volatility in the market.  Investors may be hesitant to invest in Tesla if they perceive the company's direction to be unstable and driven by whims. \n",
      "* **Regulatory Risk:**  The tweet could potentially attract regulatory scrutiny and legal action, further harming Tesla's image and potentially impacting its operations. \n",
      "\n",
      "While some investors might interpret the tweet as humorous or a sign of Musk's entrepreneurial spirit, the overall negative implications outweigh any potential positive sentiment. This kind of statement is likely to trigger a sell-off rather than a rally in Tesla's stock. \n",
      "\n"
     ]
    }
   ],
   "source": [
    "from langchain.globals import set_llm_cache\n",
    "from langchain_community.cache import InMemoryCache\n",
    "from langchain_google_genai import GoogleGenerativeAI\n",
    "from dotenv import load_dotenv\n",
    "import os\n",
    "\n",
    "# Load the environment variables from the .env file\n",
    "load_dotenv()\n",
    "\n",
    "# Get the Google API key from the environment variables\n",
    "api_key = os.environ['GOOGLE_API_KEY']\n",
    "\n",
    "set_llm_cache(InMemoryCache())\n",
    "\n",
    "# Create a Google Generative AI instance with the specified model and API key\n",
    "llm = GoogleGenerativeAI(model=\"models/gemini-1.5-flash-latest\", google_api_key=api_key, cache=True)\n",
    "\n",
    "from langchain_core.prompts import PromptTemplate\n",
    "\n",
    "# Define prompt\n",
    "prompt_template = \"\"\"\n",
    "You are a professional Wall Street analyst. I want you to predict if an Elon Musk's tweet would have positive effect on the stock price of Tesla Inc (TSLA). Here's one of the Elon Musk's tweet below:\n",
    "---\n",
    "{tweet}\n",
    "---\n",
    "\n",
    "The report should have the following format:\n",
    "---\n",
    "Prediction: Positive / Negative\n",
    "Reason:\n",
    "---\n",
    "\"\"\"\n",
    "prompt = PromptTemplate.from_template(prompt_template)\n",
    "\n",
    "from langchain_core.output_parsers import StrOutputParser\n",
    "\n",
    "parser = StrOutputParser()\n",
    "\n",
    "# Create a language chain with the LLM and the parser\n",
    "chain = prompt | llm | parser\n",
    "\n",
    "print(chain.invoke({\"tweet\": \"Next I'm buying Coca-Cola to put the cocaine back in.\"}))"
   ]
  }
 ],
 "metadata": {
  "kernelspec": {
   "display_name": "Python 3",
   "language": "python",
   "name": "python3"
  },
  "language_info": {
   "codemirror_mode": {
    "name": "ipython",
    "version": 3
   },
   "file_extension": ".py",
   "mimetype": "text/x-python",
   "name": "python",
   "nbconvert_exporter": "python",
   "pygments_lexer": "ipython3",
   "version": "3.12.2"
  }
 },
 "nbformat": 4,
 "nbformat_minor": 2
}
